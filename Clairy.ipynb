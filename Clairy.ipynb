{
 "cells": [
  {
   "cell_type": "code",
   "execution_count": 57,
   "metadata": {},
   "outputs": [
    {
     "name": "stdout",
     "output_type": "stream",
     "text": [
      "Collecting pyowm\n",
      "  Downloading pyowm-2.7.1.tar.gz (3.7MB)\n",
      "\u001b[K    100% |████████████████████████████████| 3.7MB 176kB/s eta 0:00:01\n",
      "\u001b[?25hBuilding wheels for collected packages: pyowm\n",
      "  Running setup.py bdist_wheel for pyowm ... \u001b[?25ldone\n",
      "\u001b[?25h  Stored in directory: /Users/Andii/Library/Caches/pip/wheels/7d/db/1c/f7e9bca61954a2c69d6d1179a3e0ac7b87424e989816171f78\n",
      "Successfully built pyowm\n",
      "Installing collected packages: pyowm\n",
      "Successfully installed pyowm-2.7.1\n"
     ]
    }
   ],
   "source": [
    "# Install python openweather package\n",
    "!pip install pyowm"
   ]
  },
  {
   "cell_type": "code",
   "execution_count": 6,
   "metadata": {
    "collapsed": true
   },
   "outputs": [],
   "source": [
    "import pandas as pd\n",
    "import requests\n",
    "import json\n",
    "from configparser import ConfigParser\n",
    "\n",
    "%matplotlib inline"
   ]
  },
  {
   "cell_type": "markdown",
   "metadata": {},
   "source": [
    "# Let's get the data"
   ]
  },
  {
   "cell_type": "code",
   "execution_count": 5,
   "metadata": {
    "collapsed": true
   },
   "outputs": [],
   "source": [
    "# Be sure to hide API keys and your serial from Github\n",
    "# Create a config.ini file with the following content\n",
    "# [auth]  \n",
    "# serial = yourSerial123\n",
    "# token = yourAPIKey123\n",
    "\n",
    "config = ConfigParser()  \n",
    "config.read('config.ini')  \n",
    "token = config.get('auth', 'token')  \n",
    "serial = config.get('auth', 'serial') \n",
    "\n",
    "\n",
    "# Get data from Clairy API\n",
    "base_url = \"http://api.clairy.co/api/Device/GetAllData\"\n",
    "\n",
    "serial = \"261700143\"\n",
    "start_date = \"2017-08-01\"\n",
    "endpoint = base_url + \"?Serial=\" + serial + \"&StartDate=\" + start_date\n",
    "\n",
    "headers = {\"Authorization\": \"Bearer \" + token}\n",
    "json_data = requests.get(endpoint, headers = headers).json()"
   ]
  },
  {
   "cell_type": "code",
   "execution_count": 160,
   "metadata": {
    "collapsed": true
   },
   "outputs": [],
   "source": [
    "# Get historical data from Wunderground\n",
    "wunder = 'https://www.wunderground.com/weatherstation/WXDailyHistory.asp?ID=IMUNICH268&graphspan=month&month=8&day=1&year=2017&format=1'\n",
    "hist_weather = pd.read_csv(wunder)"
   ]
  },
  {
   "cell_type": "markdown",
   "metadata": {},
   "source": [
    "# Formatting the data"
   ]
  },
  {
   "cell_type": "code",
   "execution_count": 4,
   "metadata": {
    "scrolled": true
   },
   "outputs": [
    {
     "data": {
      "text/html": [
       "<div>\n",
       "<style>\n",
       "    .dataframe thead tr:only-child th {\n",
       "        text-align: right;\n",
       "    }\n",
       "\n",
       "    .dataframe thead th {\n",
       "        text-align: left;\n",
       "    }\n",
       "\n",
       "    .dataframe tbody tr th {\n",
       "        vertical-align: top;\n",
       "    }\n",
       "</style>\n",
       "<table border=\"1\" class=\"dataframe\">\n",
       "  <thead>\n",
       "    <tr style=\"text-align: right;\">\n",
       "      <th></th>\n",
       "      <th>Inside_Humidity</th>\n",
       "      <th>Inside_IAQ</th>\n",
       "      <th>Inside_Temperature</th>\n",
       "    </tr>\n",
       "    <tr>\n",
       "      <th>Date</th>\n",
       "      <th></th>\n",
       "      <th></th>\n",
       "      <th></th>\n",
       "    </tr>\n",
       "  </thead>\n",
       "  <tbody>\n",
       "    <tr>\n",
       "      <th>2017-08-27</th>\n",
       "      <td>75.894444</td>\n",
       "      <td>965.972222</td>\n",
       "      <td>23.022222</td>\n",
       "    </tr>\n",
       "    <tr>\n",
       "      <th>2017-08-28</th>\n",
       "      <td>84.143750</td>\n",
       "      <td>856.597222</td>\n",
       "      <td>22.816667</td>\n",
       "    </tr>\n",
       "    <tr>\n",
       "      <th>2017-08-29</th>\n",
       "      <td>80.352778</td>\n",
       "      <td>896.180556</td>\n",
       "      <td>22.525694</td>\n",
       "    </tr>\n",
       "    <tr>\n",
       "      <th>2017-08-30</th>\n",
       "      <td>82.295833</td>\n",
       "      <td>884.027778</td>\n",
       "      <td>22.855556</td>\n",
       "    </tr>\n",
       "    <tr>\n",
       "      <th>2017-08-31</th>\n",
       "      <td>85.270833</td>\n",
       "      <td>877.083333</td>\n",
       "      <td>22.463194</td>\n",
       "    </tr>\n",
       "  </tbody>\n",
       "</table>\n",
       "</div>"
      ],
      "text/plain": [
       "            Inside_Humidity  Inside_IAQ  Inside_Temperature\n",
       "Date                                                       \n",
       "2017-08-27        75.894444  965.972222           23.022222\n",
       "2017-08-28        84.143750  856.597222           22.816667\n",
       "2017-08-29        80.352778  896.180556           22.525694\n",
       "2017-08-30        82.295833  884.027778           22.855556\n",
       "2017-08-31        85.270833  877.083333           22.463194"
      ]
     },
     "execution_count": 4,
     "metadata": {},
     "output_type": "execute_result"
    }
   ],
   "source": [
    "# Clairy\n",
    "json_str = json.dumps(json_data)\n",
    "data = pd.read_json(json_str)\n",
    "data.set_index('Date', inplace=True)\n",
    "data.drop(['Device', 'Serial', 'FanIsOn'], axis=1, inplace=True)\n",
    "data = data[data.index < '2017-09-01']\n",
    "\n",
    "data.columns = ['Inside_Humidity', 'Inside_IAQ', 'Inside_Temperature']\n",
    "\n",
    "# Average daily temperature\n",
    "data = data.resample('D').mean()\n",
    "\n",
    "data.tail()"
   ]
  },
  {
   "cell_type": "code",
   "execution_count": 161,
   "metadata": {},
   "outputs": [
    {
     "data": {
      "text/html": [
       "<div>\n",
       "<style>\n",
       "    .dataframe thead tr:only-child th {\n",
       "        text-align: right;\n",
       "    }\n",
       "\n",
       "    .dataframe thead th {\n",
       "        text-align: left;\n",
       "    }\n",
       "\n",
       "    .dataframe tbody tr th {\n",
       "        vertical-align: top;\n",
       "    }\n",
       "</style>\n",
       "<table border=\"1\" class=\"dataframe\">\n",
       "  <thead>\n",
       "    <tr style=\"text-align: right;\">\n",
       "      <th></th>\n",
       "      <th>Outside_Temperature</th>\n",
       "      <th>Outside_Humidity</th>\n",
       "    </tr>\n",
       "    <tr>\n",
       "      <th>Date</th>\n",
       "      <th></th>\n",
       "      <th></th>\n",
       "    </tr>\n",
       "  </thead>\n",
       "  <tbody>\n",
       "    <tr>\n",
       "      <th>2017-08-01</th>\n",
       "      <td>30.1</td>\n",
       "      <td>60.0</td>\n",
       "    </tr>\n",
       "    <tr>\n",
       "      <th>2017-08-02</th>\n",
       "      <td>26.2</td>\n",
       "      <td>75.0</td>\n",
       "    </tr>\n",
       "    <tr>\n",
       "      <th>2017-08-03</th>\n",
       "      <td>27.4</td>\n",
       "      <td>62.0</td>\n",
       "    </tr>\n",
       "    <tr>\n",
       "      <th>2017-08-04</th>\n",
       "      <td>25.7</td>\n",
       "      <td>65.0</td>\n",
       "    </tr>\n",
       "    <tr>\n",
       "      <th>2017-08-05</th>\n",
       "      <td>25.9</td>\n",
       "      <td>62.0</td>\n",
       "    </tr>\n",
       "  </tbody>\n",
       "</table>\n",
       "</div>"
      ],
      "text/plain": [
       "            Outside_Temperature  Outside_Humidity\n",
       "Date                                             \n",
       "2017-08-01                 30.1              60.0\n",
       "2017-08-02                 26.2              75.0\n",
       "2017-08-03                 27.4              62.0\n",
       "2017-08-04                 25.7              65.0\n",
       "2017-08-05                 25.9              62.0"
      ]
     },
     "execution_count": 161,
     "metadata": {},
     "output_type": "execute_result"
    }
   ],
   "source": [
    "# Wunderground\n",
    "\n",
    "hist_weather = hist_weather[hist_weather['Date'] != '<br>']\n",
    "hist_weather.Date = pd.to_datetime(hist_weather.Date)\n",
    "hist_weather.set_index('Date', inplace=True)\n",
    "hist_weather = hist_weather[['TemperatureAvgC','HumidityAvg']]\n",
    "hist_weather.columns = ['Outside_Temperature', 'Outside_Humidity']\n",
    "hist_weather.head()"
   ]
  },
  {
   "cell_type": "markdown",
   "metadata": {},
   "source": [
    "# Join the data"
   ]
  },
  {
   "cell_type": "code",
   "execution_count": 159,
   "metadata": {},
   "outputs": [
    {
     "data": {
      "text/html": [
       "<div>\n",
       "<style>\n",
       "    .dataframe thead tr:only-child th {\n",
       "        text-align: right;\n",
       "    }\n",
       "\n",
       "    .dataframe thead th {\n",
       "        text-align: left;\n",
       "    }\n",
       "\n",
       "    .dataframe tbody tr th {\n",
       "        vertical-align: top;\n",
       "    }\n",
       "</style>\n",
       "<table border=\"1\" class=\"dataframe\">\n",
       "  <thead>\n",
       "    <tr style=\"text-align: right;\">\n",
       "      <th></th>\n",
       "      <th>Inside_Humidity</th>\n",
       "      <th>Inside_IAQ</th>\n",
       "      <th>Inside_Temperature</th>\n",
       "      <th>Outside_Temperature</th>\n",
       "      <th>Outside_Humidity</th>\n",
       "    </tr>\n",
       "  </thead>\n",
       "  <tbody>\n",
       "    <tr>\n",
       "      <th>count</th>\n",
       "      <td>31.000000</td>\n",
       "      <td>31.000000</td>\n",
       "      <td>31.000000</td>\n",
       "      <td>31.000000</td>\n",
       "      <td>31.000000</td>\n",
       "    </tr>\n",
       "    <tr>\n",
       "      <th>mean</th>\n",
       "      <td>80.887142</td>\n",
       "      <td>955.477151</td>\n",
       "      <td>21.712321</td>\n",
       "      <td>22.867742</td>\n",
       "      <td>68.451613</td>\n",
       "    </tr>\n",
       "    <tr>\n",
       "      <th>std</th>\n",
       "      <td>6.631523</td>\n",
       "      <td>39.238744</td>\n",
       "      <td>1.296835</td>\n",
       "      <td>3.910276</td>\n",
       "      <td>7.753875</td>\n",
       "    </tr>\n",
       "    <tr>\n",
       "      <th>min</th>\n",
       "      <td>68.675000</td>\n",
       "      <td>856.597222</td>\n",
       "      <td>18.288889</td>\n",
       "      <td>13.700000</td>\n",
       "      <td>58.000000</td>\n",
       "    </tr>\n",
       "    <tr>\n",
       "      <th>25%</th>\n",
       "      <td>76.523264</td>\n",
       "      <td>945.659722</td>\n",
       "      <td>21.145833</td>\n",
       "      <td>19.950000</td>\n",
       "      <td>62.000000</td>\n",
       "    </tr>\n",
       "    <tr>\n",
       "      <th>50%</th>\n",
       "      <td>82.733333</td>\n",
       "      <td>964.930556</td>\n",
       "      <td>21.914583</td>\n",
       "      <td>23.700000</td>\n",
       "      <td>66.000000</td>\n",
       "    </tr>\n",
       "    <tr>\n",
       "      <th>75%</th>\n",
       "      <td>84.821528</td>\n",
       "      <td>979.166667</td>\n",
       "      <td>22.788542</td>\n",
       "      <td>25.600000</td>\n",
       "      <td>73.500000</td>\n",
       "    </tr>\n",
       "    <tr>\n",
       "      <th>max</th>\n",
       "      <td>92.800694</td>\n",
       "      <td>1000.000000</td>\n",
       "      <td>23.319444</td>\n",
       "      <td>30.100000</td>\n",
       "      <td>88.000000</td>\n",
       "    </tr>\n",
       "  </tbody>\n",
       "</table>\n",
       "</div>"
      ],
      "text/plain": [
       "       Inside_Humidity   Inside_IAQ  Inside_Temperature  Outside_Temperature  \\\n",
       "count        31.000000    31.000000           31.000000            31.000000   \n",
       "mean         80.887142   955.477151           21.712321            22.867742   \n",
       "std           6.631523    39.238744            1.296835             3.910276   \n",
       "min          68.675000   856.597222           18.288889            13.700000   \n",
       "25%          76.523264   945.659722           21.145833            19.950000   \n",
       "50%          82.733333   964.930556           21.914583            23.700000   \n",
       "75%          84.821528   979.166667           22.788542            25.600000   \n",
       "max          92.800694  1000.000000           23.319444            30.100000   \n",
       "\n",
       "       Outside_Humidity  \n",
       "count         31.000000  \n",
       "mean          68.451613  \n",
       "std            7.753875  \n",
       "min           58.000000  \n",
       "25%           62.000000  \n",
       "50%           66.000000  \n",
       "75%           73.500000  \n",
       "max           88.000000  "
      ]
     },
     "execution_count": 159,
     "metadata": {},
     "output_type": "execute_result"
    }
   ],
   "source": [
    "joined = data.join(hist_weather, how='outer')\n",
    "joined.describe()"
   ]
  },
  {
   "cell_type": "code",
   "execution_count": 156,
   "metadata": {},
   "outputs": [
    {
     "data": {
      "text/plain": [
       "<matplotlib.axes._subplots.AxesSubplot at 0x112a37e10>"
      ]
     },
     "execution_count": 156,
     "metadata": {},
     "output_type": "execute_result"
    },
    {
     "data": {
      "image/png": "[encoded data removed]",
      "text/plain": [
       "<matplotlib.figure.Figure at 0x111732128>"
      ]
     },
     "metadata": {},
     "output_type": "display_data"
    }
   ],
   "source": [
    "joined[['Inside_Temperature', 'Outside_Temperature']].plot.line()"
   ]
  },
  {
   "cell_type": "code",
   "execution_count": 158,
   "metadata": {},
   "outputs": [
    {
     "data": {
      "text/html": [
       "<div>\n",
       "<style>\n",
       "    .dataframe thead tr:only-child th {\n",
       "        text-align: right;\n",
       "    }\n",
       "\n",
       "    .dataframe thead th {\n",
       "        text-align: left;\n",
       "    }\n",
       "\n",
       "    .dataframe tbody tr th {\n",
       "        vertical-align: top;\n",
       "    }\n",
       "</style>\n",
       "<table border=\"1\" class=\"dataframe\">\n",
       "  <thead>\n",
       "    <tr style=\"text-align: right;\">\n",
       "      <th></th>\n",
       "      <th>Inside_Humidity</th>\n",
       "      <th>Inside_IAQ</th>\n",
       "      <th>Inside_Temperature</th>\n",
       "      <th>Outside_Temperature</th>\n",
       "      <th>Outside_Humidity</th>\n",
       "    </tr>\n",
       "  </thead>\n",
       "  <tbody>\n",
       "    <tr>\n",
       "      <th>count</th>\n",
       "      <td>31.000000</td>\n",
       "      <td>31.000000</td>\n",
       "      <td>31.000000</td>\n",
       "      <td>31.000000</td>\n",
       "      <td>31.000000</td>\n",
       "    </tr>\n",
       "    <tr>\n",
       "      <th>mean</th>\n",
       "      <td>80.887142</td>\n",
       "      <td>955.477151</td>\n",
       "      <td>21.712321</td>\n",
       "      <td>22.867742</td>\n",
       "      <td>68.451613</td>\n",
       "    </tr>\n",
       "    <tr>\n",
       "      <th>std</th>\n",
       "      <td>6.631523</td>\n",
       "      <td>39.238744</td>\n",
       "      <td>1.296835</td>\n",
       "      <td>3.910276</td>\n",
       "      <td>7.753875</td>\n",
       "    </tr>\n",
       "    <tr>\n",
       "      <th>min</th>\n",
       "      <td>68.675000</td>\n",
       "      <td>856.597222</td>\n",
       "      <td>18.288889</td>\n",
       "      <td>13.700000</td>\n",
       "      <td>58.000000</td>\n",
       "    </tr>\n",
       "    <tr>\n",
       "      <th>25%</th>\n",
       "      <td>76.523264</td>\n",
       "      <td>945.659722</td>\n",
       "      <td>21.145833</td>\n",
       "      <td>19.950000</td>\n",
       "      <td>62.000000</td>\n",
       "    </tr>\n",
       "    <tr>\n",
       "      <th>50%</th>\n",
       "      <td>82.733333</td>\n",
       "      <td>964.930556</td>\n",
       "      <td>21.914583</td>\n",
       "      <td>23.700000</td>\n",
       "      <td>66.000000</td>\n",
       "    </tr>\n",
       "    <tr>\n",
       "      <th>75%</th>\n",
       "      <td>84.821528</td>\n",
       "      <td>979.166667</td>\n",
       "      <td>22.788542</td>\n",
       "      <td>25.600000</td>\n",
       "      <td>73.500000</td>\n",
       "    </tr>\n",
       "    <tr>\n",
       "      <th>max</th>\n",
       "      <td>92.800694</td>\n",
       "      <td>1000.000000</td>\n",
       "      <td>23.319444</td>\n",
       "      <td>30.100000</td>\n",
       "      <td>88.000000</td>\n",
       "    </tr>\n",
       "  </tbody>\n",
       "</table>\n",
       "</div>"
      ],
      "text/plain": [
       "       Inside_Humidity   Inside_IAQ  Inside_Temperature  Outside_Temperature  \\\n",
       "count        31.000000    31.000000           31.000000            31.000000   \n",
       "mean         80.887142   955.477151           21.712321            22.867742   \n",
       "std           6.631523    39.238744            1.296835             3.910276   \n",
       "min          68.675000   856.597222           18.288889            13.700000   \n",
       "25%          76.523264   945.659722           21.145833            19.950000   \n",
       "50%          82.733333   964.930556           21.914583            23.700000   \n",
       "75%          84.821528   979.166667           22.788542            25.600000   \n",
       "max          92.800694  1000.000000           23.319444            30.100000   \n",
       "\n",
       "       Outside_Humidity  \n",
       "count         31.000000  \n",
       "mean          68.451613  \n",
       "std            7.753875  \n",
       "min           58.000000  \n",
       "25%           62.000000  \n",
       "50%           66.000000  \n",
       "75%           73.500000  \n",
       "max           88.000000  "
      ]
     },
     "execution_count": 158,
     "metadata": {},
     "output_type": "execute_result"
    }
   ],
   "source": [
    "joined.describe()"
   ]
  },
  {
   "cell_type": "code",
   "execution_count": null,
   "metadata": {
    "collapsed": true
   },
   "outputs": [],
   "source": []
  }
 ],
 "metadata": {
  "kernelspec": {
   "display_name": "Python [conda root]",
   "language": "python",
   "name": "conda-root-py"
  },
  "language_info": {
   "codemirror_mode": {
    "name": "ipython",
    "version": 3
   },
   "file_extension": ".py",
   "mimetype": "text/x-python",
   "name": "python",
   "nbconvert_exporter": "python",
   "pygments_lexer": "ipython3",
   "version": "3.5.3"
  }
 },
 "nbformat": 4,
 "nbformat_minor": 2
}
